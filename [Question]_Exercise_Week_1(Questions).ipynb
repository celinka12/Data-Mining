{
  "cells": [
    {
      "cell_type": "markdown",
      "metadata": {
        "id": "re8S5yd8u1eZ"
      },
      "source": [
        "<h2> Python Basics"
      ]
    },
    {
      "cell_type": "markdown",
      "metadata": {
        "id": "5H441cQou1ee"
      },
      "source": [
        "I. Cobalah print kalimat \"Hello, my name is ***nama anda***\" dengan minimal 2 cara: <br>\n",
        "a.   Print biasa (nama diletakkan langsung dalam string yang di print)<br>\n",
        "b.  Menggunakan variabel (nama disimpan dulu di variabel)<br>\n",
        "c.  Menggunakan operator dan variabel<br>\n",
        "d.  Menggunakan .format()"
      ]
    },
    {
      "cell_type": "markdown",
      "metadata": {
        "id": "xM1yXK32NW80"
      },
      "source": []
    },
    {
      "cell_type": "code",
      "execution_count": 1,
      "metadata": {
        "colab": {
          "base_uri": "https://localhost:8080/",
          "height": 36
        },
        "id": "EJlHc6Ptu1ef",
        "outputId": "8160441a-8ef1-428f-9340-d52566cd324d"
      },
      "outputs": [
        {
          "output_type": "execute_result",
          "data": {
            "text/plain": [
              "'Hello, my name is Celinka'"
            ],
            "application/vnd.google.colaboratory.intrinsic+json": {
              "type": "string"
            }
          },
          "metadata": {},
          "execution_count": 1
        }
      ],
      "source": [
        "# Nama\n",
        "print = \"Hello, my name is Celinka\"\n",
        "print"
      ]
    },
    {
      "cell_type": "code",
      "execution_count": 2,
      "metadata": {
        "colab": {
          "base_uri": "https://localhost:8080/",
          "height": 36
        },
        "id": "EidFJGDpNv0E",
        "outputId": "81eff026-ad03-42cb-9b34-16fb56a4bbed"
      },
      "outputs": [
        {
          "output_type": "execute_result",
          "data": {
            "text/plain": [
              "'Hello, my name is Celinka'"
            ],
            "application/vnd.google.colaboratory.intrinsic+json": {
              "type": "string"
            }
          },
          "metadata": {},
          "execution_count": 2
        }
      ],
      "source": [
        "\n",
        "#Variabel\n",
        "namee = \"Hello, my name is Celinka\"\n",
        "namee\n",
        "\n"
      ]
    },
    {
      "cell_type": "code",
      "source": [
        "variabel = \"Celinka\"\n",
        "y = \"Hello, my name is {}\".format(variabel)\n",
        "y"
      ],
      "metadata": {
        "colab": {
          "base_uri": "https://localhost:8080/",
          "height": 36
        },
        "id": "N0Hqb78MSR7E",
        "outputId": "18eacf16-e1a1-4306-a50e-daeca0833af8"
      },
      "execution_count": 3,
      "outputs": [
        {
          "output_type": "execute_result",
          "data": {
            "text/plain": [
              "'Hello, my name is Celinka'"
            ],
            "application/vnd.google.colaboratory.intrinsic+json": {
              "type": "string"
            }
          },
          "metadata": {},
          "execution_count": 3
        }
      ]
    },
    {
      "cell_type": "markdown",
      "metadata": {
        "id": "ykD_f9Cfu1eg"
      },
      "source": [
        "II. Selesaikan soal cerita berikut menggunakan python:<br>\n",
        "a.  Jose membeli 4 kotak kelereng, tiap kotak berisi 15 buah kelereng. Kelereng itu akan dibagikan kepada 12 orang temannya, setiap teman akan mendapat ... kelereng.<br>\n",
        "b.  Hasil dari 8 pangkat 1/3 adalah ...<br>\n",
        "c.  Catharina memiliki uang sebesar Rp 50.000 untuk dibelanjakan kertas binder, 1 paket kertas binder isi 100 lembar dijual seharga 7500, jika ia ingin membeli berapa kertas binder yang dapat ia beli dengan uang yang ia punya? Berapa kembalian yang diterima?"
      ]
    },
    {
      "cell_type": "code",
      "execution_count": 4,
      "metadata": {
        "id": "HZMGFAk6u1eg",
        "colab": {
          "base_uri": "https://localhost:8080/"
        },
        "outputId": "1fb054c6-d69e-46e4-ba92-b78edfc38067"
      },
      "outputs": [
        {
          "output_type": "execute_result",
          "data": {
            "text/plain": [
              "5.0"
            ]
          },
          "metadata": {},
          "execution_count": 4
        }
      ],
      "source": [
        "# Soal a\n",
        "x = 15 * 4 / 12\n",
        "x"
      ]
    },
    {
      "cell_type": "code",
      "source": [
        "# Soal b\n",
        "y= 8**(1/3)\n",
        "y"
      ],
      "metadata": {
        "colab": {
          "base_uri": "https://localhost:8080/"
        },
        "id": "W0BzQ7MUSuJE",
        "outputId": "2f3f367c-ce0c-4a27-ffe2-3d676c04dd8a"
      },
      "execution_count": 5,
      "outputs": [
        {
          "output_type": "execute_result",
          "data": {
            "text/plain": [
              "2.0"
            ]
          },
          "metadata": {},
          "execution_count": 5
        }
      ]
    },
    {
      "cell_type": "code",
      "source": [
        "# Soal c\n",
        "# Uang yang dimiliki Catharina\n",
        "import sys\n",
        "\n",
        "uang = 50000\n",
        "paket = 7500\n",
        "\n",
        "jumlah_paket = uang // paket\n",
        "total_biaya = jumlah_paket * paket\n",
        "kembalian = uang - total_biaya\n",
        "\n",
        "print(\"Catharina dapat membeli\", jumlah_paket, \"paket kertas binder.\")\n",
        "print(\"Kembalian yang diterima:\", kembalian)\n",
        "\n"
      ],
      "metadata": {
        "colab": {
          "base_uri": "https://localhost:8080/"
        },
        "id": "xDTRK4iQSxBT",
        "outputId": "af61a31c-1954-46f5-f476-3f56991bb58a"
      },
      "execution_count": 4,
      "outputs": [
        {
          "output_type": "stream",
          "name": "stdout",
          "text": [
            "Catharina dapat membeli 6 paket kertas binder.\n",
            "Kembalian yang diterima: 5000\n"
          ]
        }
      ]
    },
    {
      "cell_type": "markdown",
      "metadata": {
        "id": "ogSVphwKu1eh"
      },
      "source": [
        "III. Tunjukan cara untuk mengonversi tipe-tipe data berikut:\n",
        "\n",
        "1. \"1000\" -> 1000 (string ke int)\n",
        "2. 5.25 -> 5 (float ke int)\n",
        "3. 5 -> 5.0 (int ke float)\n",
        "4. 1000 -> \"1000\" (int ke string)\n",
        "\n",
        "Expected output:\n",
        "\n",
        "\n",
        "![image.png](data:image/png;base64,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)"
      ]
    },
    {
      "cell_type": "code",
      "execution_count": 3,
      "metadata": {
        "id": "1380euOQu1ei",
        "colab": {
          "base_uri": "https://localhost:8080/"
        },
        "outputId": "23f5af52-2201-43d4-b8ec-9628ad7c8787"
      },
      "outputs": [
        {
          "output_type": "stream",
          "name": "stdout",
          "text": [
            "1000 <class 'int'>\n",
            "5 <class 'int'>\n",
            "5.0 <class 'float'>\n",
            "1000 <class 'str'>\n"
          ]
        }
      ],
      "source": [
        "# Konversi\n",
        "c = \"1000\"\n",
        "print(int(c), type(int(c)))\n",
        "\n",
        "d=5.25\n",
        "print(int(d), type(int(d)))\n",
        "\n",
        "e=5\n",
        "print(float(e), type(float(e)))\n",
        "\n",
        "f=1000\n",
        "print(str(f), type(str(f)))\n",
        "\n"
      ]
    },
    {
      "cell_type": "markdown",
      "metadata": {
        "id": "DhXG-jySu1ej"
      },
      "source": [
        "IV. String\n",
        "\n",
        "\"If you want to know what a man's like, take a good look at how he treats his inferiors, not his equals.\"\n",
        "\n",
        "1. Tampilkan indeks ke 20 sampai 30 dari string di atas (indeks ke 30 ikut)\n",
        "2. Bagaimana cara memisah string berdasarkan spasi (simpan dalam list)\n",
        "3. Balik string di atas dengan menggunakan satu baris kode (menggunakan index)\n"
      ]
    },
    {
      "cell_type": "code",
      "execution_count": 8,
      "metadata": {
        "id": "kUE0OZhIu1ek",
        "colab": {
          "base_uri": "https://localhost:8080/",
          "height": 36
        },
        "outputId": "402f49d6-c074-4d12-d8e1-9ad9950e58df"
      },
      "outputs": [
        {
          "output_type": "execute_result",
          "data": {
            "text/plain": [
              "\"what a man'\""
            ],
            "application/vnd.google.colaboratory.intrinsic+json": {
              "type": "string"
            }
          },
          "metadata": {},
          "execution_count": 8
        }
      ],
      "source": [
        "# 1\n",
        "teks = \"If you want to know what a man's like, take a good look at how he treats his inferiors, not his equals.\"\n",
        "substring = teks[20:31]\n",
        "substring\n",
        "\n"
      ]
    },
    {
      "cell_type": "code",
      "source": [
        "# 2\n",
        "\n",
        "kata = \"If you want to know what a man's like, take a good look at how he treats his inferiors, not his equals.\"\n",
        "kata = kata.split()\n",
        "kata\n"
      ],
      "metadata": {
        "colab": {
          "base_uri": "https://localhost:8080/"
        },
        "id": "U-CJfVRmbmiT",
        "outputId": "a6a25c14-46f3-46d3-8f5d-0bbbd4caf772"
      },
      "execution_count": 9,
      "outputs": [
        {
          "output_type": "execute_result",
          "data": {
            "text/plain": [
              "['If',\n",
              " 'you',\n",
              " 'want',\n",
              " 'to',\n",
              " 'know',\n",
              " 'what',\n",
              " 'a',\n",
              " \"man's\",\n",
              " 'like,',\n",
              " 'take',\n",
              " 'a',\n",
              " 'good',\n",
              " 'look',\n",
              " 'at',\n",
              " 'how',\n",
              " 'he',\n",
              " 'treats',\n",
              " 'his',\n",
              " 'inferiors,',\n",
              " 'not',\n",
              " 'his',\n",
              " 'equals.']"
            ]
          },
          "metadata": {},
          "execution_count": 9
        }
      ]
    },
    {
      "cell_type": "code",
      "source": [
        "# 3\n",
        "a = \"If you want to know what a man's like, take a good look at how he treats his inferiors, not his equals.\"\n",
        "text = a[::-1]\n",
        "text"
      ],
      "metadata": {
        "colab": {
          "base_uri": "https://localhost:8080/",
          "height": 36
        },
        "id": "j7Vln54Rb4mL",
        "outputId": "85becdac-1d02-4332-9229-2c17d8b28f4a"
      },
      "execution_count": 10,
      "outputs": [
        {
          "output_type": "execute_result",
          "data": {
            "text/plain": [
              "\".slauqe sih ton ,sroirefni sih staert eh woh ta kool doog a ekat ,ekil s'nam a tahw wonk ot tnaw uoy fI\""
            ],
            "application/vnd.google.colaboratory.intrinsic+json": {
              "type": "string"
            }
          },
          "metadata": {},
          "execution_count": 10
        }
      ]
    },
    {
      "cell_type": "markdown",
      "metadata": {
        "id": "PFAMzNc6u1el"
      },
      "source": [
        "<h2> Python Data Strcutures"
      ]
    },
    {
      "cell_type": "markdown",
      "metadata": {
        "id": "m9AKxWKzu1el"
      },
      "source": [
        "I. Tuple\n",
        "\n",
        "\n",
        "1.   Buatlah sebuah tuple yang berisikan nama fakultas di UC, simpan dalam variabel \"fakultas\".\n",
        "2.   Cetaklah jumlah fakultas di UC dengan mencari panjang tuple yang dibuat.\n",
        "3.   Gunakan .index() untuk mengetahui posisi/index fakultas SIFT"
      ]
    },
    {
      "cell_type": "code",
      "execution_count": 11,
      "metadata": {
        "colab": {
          "base_uri": "https://localhost:8080/"
        },
        "id": "sA1w4YBcu1em",
        "outputId": "caaad745-3757-431c-ade0-23be95a8f469"
      },
      "outputs": [
        {
          "output_type": "stream",
          "name": "stdout",
          "text": [
            "Jumlah Fakultas di UC:  10\n",
            "Posisi/index fakultas SIFT di:  9\n"
          ]
        }
      ],
      "source": [
        "# Fakultas\n",
        "#1\n",
        "fakultas = (\"School of Business Management\",\n",
        "\"School of Creative Industry\",\n",
        "\"School of Tourism\",\n",
        "\"School of Medicine\",\n",
        "\"School of Dental Medicine\",\n",
        "\"School of Psychology\",\n",
        "\"School of Communication and Media Business\",\n",
        "\"School of Halu\",\n",
        "\"School of Halu\",\"School of Information Technology\")\n",
        "print(\"Jumlah Fakultas di UC: \", len(fakultas))\n",
        "\n",
        "print (\"Posisi/index fakultas SIFT di: \", fakultas.index(\"School of Information Technology\"))\n",
        "\n",
        "\n"
      ]
    },
    {
      "cell_type": "markdown",
      "metadata": {
        "id": "SiOS0ttQu1em"
      },
      "source": [
        "II. List\n",
        "\n",
        "\n",
        "1.   Buatlah sebuah list berisi 3 nama makanan kesukaanmu. Simpan dalam variabel \"favorit\".\n",
        "2.   Cetak nama setiap makanan dengan mengakses setiap elemen dalam list satu persatu.\n",
        "3. Kamu sedang berada di sebuah restoran dan hendak memesan salah satu menu yang ada dalam daftar favoritmu. Cetak setiap makanan dengan contoh: \"Aku ingin pesan {nama makanan}\"\n",
        "4.   Ternyata, salah satu menu tidak tersedia, jadi kamu perlu memesan makanan lain. Ganti salah satu makanan favoritmu yang kosong dengan nama makanan baru (makanan yang mana bebas). Cetak makanan favorit barumu dengan contoh: \"Aku ingin mengganti pesananku jadi {nama makanan baru}\""
      ]
    },
    {
      "cell_type": "code",
      "execution_count": 14,
      "metadata": {
        "colab": {
          "base_uri": "https://localhost:8080/"
        },
        "id": "9fuI3hJ7u1en",
        "outputId": "b75254d2-f0d1-44e2-a736-81cf59de5cf8"
      },
      "outputs": [
        {
          "output_type": "stream",
          "name": "stdout",
          "text": [
            "Sate\n",
            "Bakso\n",
            "Mie Ayam\n",
            "Aku ingin pesan Sate\n",
            "Aku ingin pesan Bakso\n",
            "Aku ingin pesan Mie Ayam\n",
            "Aku ingin mengganti pesananku jadi Nasgor\n"
          ]
        }
      ],
      "source": [
        "# 1\n",
        "favorit = [\"Sate\", \"Bakso\", \"Mie Ayam\"]\n",
        "\n",
        "# 2\n",
        "print(favorit[0])\n",
        "print(favorit[1])\n",
        "print(favorit[2])\n",
        "\n",
        "# 3\n",
        "print(\"Aku ingin pesan \" + favorit[0])\n",
        "print(\"Aku ingin pesan \" + favorit[1])\n",
        "print(\"Aku ingin pesan \" + favorit[2])\n",
        "\n",
        "# 4\n",
        "favorit[2] = \"Nasgor\"\n",
        "print (\"Aku ingin mengganti pesananku jadi \" + favorit[2])\n"
      ]
    },
    {
      "cell_type": "markdown",
      "metadata": {
        "id": "YWl87pecu1en"
      },
      "source": [
        "III. Set\n",
        "\n",
        "1. Buatlah 4 buah set sebagai berikut\n",
        "\n",
        "\n",
        "    set1 = {1, 2, 3, 4}\n",
        "    set2 = {2, 4, 6, 8}\n",
        "    set3 = {5, 7}\n",
        "    set4 = {2, 3}\n",
        "2. Gabungkan set1 dan set2 dengan menghilangkan duplicates\n",
        "3. Buktikan set1 dan set3 tidak mempunyai intersection (output : Boolean)\n",
        "4. Buktikan set4 adalah bagian dari set1 (output : Boolean)"
      ]
    },
    {
      "cell_type": "code",
      "execution_count": 30,
      "metadata": {
        "id": "Qgx8YGSpu1en",
        "colab": {
          "base_uri": "https://localhost:8080/"
        },
        "outputId": "dd619d18-ed6f-4eed-b46d-99610443ed96"
      },
      "outputs": [
        {
          "output_type": "stream",
          "name": "stdout",
          "text": [
            "{1, 2, 3, 4}\n",
            "{8, 2, 4, 6}\n",
            "{5, 7}\n",
            "{2, 3}\n",
            "{1, 2, 3, 4, 6, 8}\n",
            "True\n",
            "True\n"
          ]
        }
      ],
      "source": [
        "# 1\n",
        "set1 = {1, 2, 3, 4}\n",
        "set2 = {2, 4, 6, 8}\n",
        "set3 = {5, 7}\n",
        "set4 = {2, 3}\n",
        "print (set1)\n",
        "print (set2)\n",
        "print (set3)\n",
        "print (set4)\n",
        "\n",
        "# 2\n",
        "set1 = {1, 2, 3, 4}\n",
        "set2 = {2, 4, 6, 8}\n",
        "set_gabungan = set1.union(set2)\n",
        "print(set_gabungan)\n",
        "\n",
        "# 3\n",
        "set1 = {1, 2, 3, 4}\n",
        "set3 = {5, 7}\n",
        "set_irisan = set1.intersection(set3)\n",
        "tidak_ada_irisan = set1.isdisjoint(set3)\n",
        "print(tidak_ada_irisan)\n",
        "\n",
        "\n",
        "# 4\n",
        "set4 = {2, 3}\n",
        "set1 = {1, 2, 3, 4}\n",
        "tidak_ada_irisan = set1.isdisjoint(set3)\n",
        "adalah_bagian = set4.issubset(set1)\n",
        "print(adalah_bagian)"
      ]
    },
    {
      "cell_type": "markdown",
      "metadata": {
        "id": "uhpPy3xWu1en"
      },
      "source": [
        "<h2> Python Programming Fundamentals"
      ]
    },
    {
      "cell_type": "markdown",
      "metadata": {
        "id": "OEgpX5aYu1eo"
      },
      "source": [
        "I. Buatlah sebuah program sederhana yang meminta inputan dari user berupa jumlah penggunaan listrik (munculkan error jika input selain angka) dan menghasilkan output berupa tarif yang harus dibayar dengan syarat sebagai berikut:\n",
        "\n",
        "PLN menerapkan pembayaran listrik perumahan dengan perhitungan sebagai berikut:\n",
        "* untuk golongan 1 (penggunaan <1000 kWh) tarif : Rp1000/kWh\n",
        "* untuk golongan 2 (penggunaan >= 1000 kWh) tarif : Rp2000/kWh\n",
        "\n",
        "Dengan syarat perhitungan:\n",
        "\n",
        "Minimum pembayaran adalah 100 kWh sedangkan untuk pemakaian 1000 kWh dan seterusnya tarifnya ditambah 10% dari total pembayaran.\n",
        "\n",
        "(Jika total penggunaan <100 kWh, maka akan dikenakan tarif 100 kWh)"
      ]
    },
    {
      "cell_type": "code",
      "execution_count": 46,
      "metadata": {
        "colab": {
          "base_uri": "https://localhost:8080/"
        },
        "id": "Q6vIyfIdu1eo",
        "outputId": "4e006c43-b212-4052-9b8d-2b5554f7ad6b"
      },
      "outputs": [
        {
          "output_type": "stream",
          "name": "stdout",
          "text": [
            "Masukkan jumlah penggunaan listrik (kWh): 100\n",
            "Total pembayaran: Rp100000.00\n"
          ]
        }
      ],
      "source": [
        "# Program Bayar Listrik\n",
        "def hitung_tarif():\n",
        "    try:\n",
        "        listrik = float(input(\"Masukkan jumlah penggunaan listrik (kWh): \"))\n",
        "        if listrik < 0:\n",
        "            raise ValueError(\"Penggunaan tidak boleh negatif.\")\n",
        "        if listrik < 100:\n",
        "            listrik = 100\n",
        "            tarif = 1000\n",
        "        elif listrik < 1000:\n",
        "            tarif = 1000\n",
        "        else:\n",
        "            tarif = 2000\n",
        "            total = listrik * tarif\n",
        "            total += total * 0.10  # Tambahan 10% untuk pemakaian >= 1000 kWh\n",
        "            print(f\"Tarif pembayaran: Rp{total:.2f}\")\n",
        "            return\n",
        "        total = listrik * tarif\n",
        "        print(f\"Total pembayaran: Rp{total:.2f}\")\n",
        "    except ValueError as e:\n",
        "        print(f\"Error: {e}. Silakan masukkan angka yang valid.\")\n",
        "hitung_tarif()\n",
        "\n",
        "\n"
      ]
    },
    {
      "cell_type": "markdown",
      "metadata": {
        "id": "Bqp7xI2Nu1eo"
      },
      "source": [
        "II. Untuk Abdimas Oweek UC digunakan angkot dengan kapasitas 10 orang per angkot. Apabila terjadi kelebihan penumpang (walau hanya 1 orang), angkot yang digunakan ditambah 1. Tulislah program untuk menghitung jumlah angkot yang diperlukan bila jumlah pesertanya menggunakan input().\n",
        "\n",
        "Catatan, pastikan jika angka yang dimasukkan negatif, muncul peringatan \"Jumlah orang tidak bisa negatif!\""
      ]
    },
    {
      "cell_type": "code",
      "execution_count": 45,
      "metadata": {
        "colab": {
          "base_uri": "https://localhost:8080/"
        },
        "id": "C8thFHRbu1ep",
        "outputId": "73608b0e-dce3-4c78-d7ee-f5fd42f3102c"
      },
      "outputs": [
        {
          "output_type": "stream",
          "name": "stdout",
          "text": [
            "Masukkan jumlah peserta Abdimas Oweek: 12\n",
            "Jumlah angkot yang diperlukan: 2\n"
          ]
        }
      ],
      "source": [
        "# Program Angkot Abdimas UC\n",
        "def hitung_angkot():\n",
        "    try:\n",
        "        jumlah_peserta = int(input(\"Masukkan jumlah peserta Abdimas Oweek: \"))\n",
        "        if jumlah_peserta < 0:\n",
        "            print(\"Jumlah orang tidak bisa negatif!\")\n",
        "            return\n",
        "        kapasitas_angkot = 10\n",
        "        if jumlah_peserta == 0:\n",
        "            jumlah_angkot = 0\n",
        "        else:\n",
        "            jumlah_angkot = (jumlah_peserta // kapasitas_angkot) + (1 if jumlah_peserta % kapasitas_angkot > 0 else 0)\n",
        "        print(f\"Jumlah angkot yang diperlukan: {jumlah_angkot}\")\n",
        "\n",
        "    except ValueError:\n",
        "        print(\"Input tidak valid! Silakan masukkan angka.\")\n",
        "\n",
        "# Menjalankan fungsi\n",
        "hitung_angkot()\n",
        "\n",
        "\n",
        "\n"
      ]
    },
    {
      "cell_type": "markdown",
      "metadata": {
        "id": "zmpc0H2cu1ep"
      },
      "source": [
        "<h2> Numpy"
      ]
    },
    {
      "cell_type": "markdown",
      "metadata": {
        "id": "NH_6KTdZu1ep"
      },
      "source": [
        "1. Buatlah 1D numpy array berisi nama nama hari dalam satu minggu\n",
        "2. Gunakan sort untuk mengurutkan array sesuai abjad\n",
        "3. Gunakan random untuk mengambil 1 hari dari array, cetakhlah dalam format: \"Selamat hari \\<nama hari\\> adalah hari baikmu bulan ini!\"\n",
        "4. Buat dan cetaklah matriks 3x4 menggunakan numpy array berisi angka random dari 1-6, lalu cetak shape dan dimensi array\n",
        "5. Cetaklah elemen kolom ketiga dari matrix\n",
        "\n",
        "    [[1 ,2, 3, 4],\n",
        "\n",
        "    [5, 6, 7, 8],\n",
        "\n",
        "    [9, 10, 11, 12]]\n",
        "6. Gunakan reshape untuk mengubah matrix di atas menjadi matriks berukuran (2, 6)"
      ]
    },
    {
      "cell_type": "code",
      "execution_count": 49,
      "metadata": {
        "id": "7u2L4rYWu1ep"
      },
      "outputs": [],
      "source": [
        "\n",
        "import numpy as np\n",
        "import random\n",
        "\n",
        "# 1\n",
        "hari = np.array([\"Senin\", \"Selasa\", \"Rabu\", \"Kamis\", \"Jumat\", \"Sabtu\", \"Minggu\"])"
      ]
    },
    {
      "cell_type": "code",
      "execution_count": 50,
      "metadata": {
        "id": "7aI1VcHsInbd"
      },
      "outputs": [],
      "source": [
        "# 2\n",
        "hari.sort()"
      ]
    },
    {
      "cell_type": "code",
      "execution_count": 51,
      "metadata": {
        "id": "1KahrwRLIo9j",
        "colab": {
          "base_uri": "https://localhost:8080/"
        },
        "outputId": "0f036cfb-542d-4c93-f450-0bf658c756d2"
      },
      "outputs": [
        {
          "output_type": "stream",
          "name": "stdout",
          "text": [
            "Selamat hari Kamis adalah hari baikmu bulan ini!\n"
          ]
        }
      ],
      "source": [
        "# 3\n",
        "hari_acak = random.choice(hari)\n",
        "print(f\"Selamat hari {hari_acak} adalah hari baikmu bulan ini!\")"
      ]
    },
    {
      "cell_type": "code",
      "execution_count": 52,
      "metadata": {
        "id": "9i8pmTJxIqwg",
        "colab": {
          "base_uri": "https://localhost:8080/"
        },
        "outputId": "eeedb2da-baf6-42c9-c464-532a376a6f54"
      },
      "outputs": [
        {
          "output_type": "stream",
          "name": "stdout",
          "text": [
            "Matriks 3x4:\n",
            "[[5 1 2 2]\n",
            " [1 3 2 6]\n",
            " [5 5 2 6]]\n"
          ]
        }
      ],
      "source": [
        "# 4\n",
        "matriks = np.random.randint(1, 7, size=(3, 4))\n",
        "print(\"Matriks 3x4:\")\n",
        "print(matriks)"
      ]
    },
    {
      "cell_type": "code",
      "execution_count": 54,
      "metadata": {
        "id": "deanH7rbNQDz",
        "colab": {
          "base_uri": "https://localhost:8080/"
        },
        "outputId": "452341bf-27f1-4391-af31-8bdfa884dd83"
      },
      "outputs": [
        {
          "output_type": "stream",
          "name": "stdout",
          "text": [
            "Shape: (3, 4)\n",
            "Dimensi: 2\n",
            "Elemen kolom ketiga:\n",
            "[2 2 2]\n"
          ]
        }
      ],
      "source": [
        "# 5\n",
        "print(\"Shape:\", matriks.shape)\n",
        "print(\"Dimensi:\", matriks.ndim)\n",
        "\n",
        "print(\"Elemen kolom ketiga:\")\n",
        "print(matriks[:, 2])  # Kolom ketiga (indeks 2)\n"
      ]
    },
    {
      "cell_type": "code",
      "execution_count": 55,
      "metadata": {
        "id": "8SDYNL0-IxIE",
        "colab": {
          "base_uri": "https://localhost:8080/"
        },
        "outputId": "1b84d336-207d-4f1d-f9b3-6375e4bc397b"
      },
      "outputs": [
        {
          "output_type": "stream",
          "name": "stdout",
          "text": [
            "Matriks setelah reshape menjadi (2, 6):\n",
            "[[ 1  2  3  4  5  6]\n",
            " [ 7  8  9 10 11 12]]\n"
          ]
        }
      ],
      "source": [
        "# 6\n",
        "matriks_ubah = np.array([[1, 2, 3, 4],\n",
        "                         [5, 6, 7, 8],\n",
        "                         [9, 10, 11, 12]])\n",
        "\n",
        "matriks_reshaped = matriks_ubah.reshape(2, 6)\n",
        "print(\"Matriks setelah reshape menjadi (2, 6):\")\n",
        "print(matriks_reshaped)"
      ]
    },
    {
      "cell_type": "markdown",
      "metadata": {
        "id": "IJ-xiFGCu1ep"
      },
      "source": [
        "<h2> Pandas"
      ]
    },
    {
      "cell_type": "markdown",
      "metadata": {
        "id": "W1GPuTsQu1eq"
      },
      "source": [
        "1. Buatlah Pandas Series dari list [\"Information\", \"Systems\", \"for\", \"Business\"]\n",
        "2. Buatlah Pandas Dataframe dari dictionary\n",
        "{ \"brand\": \"Ford\", \"model\": \"Mustang\", \"year\": 1964 }"
      ]
    },
    {
      "cell_type": "code",
      "execution_count": 56,
      "metadata": {
        "id": "btISSDM7u1eq",
        "colab": {
          "base_uri": "https://localhost:8080/"
        },
        "outputId": "7590c95d-d3bf-4980-b100-6f203c4db9a8"
      },
      "outputs": [
        {
          "output_type": "stream",
          "name": "stdout",
          "text": [
            "Pandas Series:\n",
            "0    Information\n",
            "1        Systems\n",
            "2            for\n",
            "3       Business\n",
            "dtype: object\n",
            "\n",
            "Pandas DataFrame:\n",
            "  brand    model  year\n",
            "0  Ford  Mustang  1964\n"
          ]
        }
      ],
      "source": [
        "import pandas as pd\n",
        "\n",
        "# 1. Membuat Pandas Series dari list\n",
        "data_list = [\"Information\", \"Systems\", \"for\", \"Business\"]\n",
        "series = pd.Series(data_list)\n",
        "print(\"Pandas Series:\")\n",
        "print(series)\n",
        "\n",
        "# 2. Membuat Pandas DataFrame dari dictionary\n",
        "data_dict = { \"brand\": \"Ford\", \"model\": \"Mustang\", \"year\": 1964 }\n",
        "dataframe = pd.DataFrame([data_dict])  # Perlu list of dictionaries\n",
        "print(\"\\nPandas DataFrame:\")\n",
        "print(dataframe)"
      ]
    },
    {
      "cell_type": "markdown",
      "metadata": {
        "id": "K6iLqp69u1eq"
      },
      "source": [
        "3. Import dataset berikut kedalam dataframe.    \n",
        "dataset : https://raw.githubusercontent.com/GTerrence/dataset/main/50_Startups.csv.xls\n",
        "4. Tunjukan kota apa saja yang ada dalam dataset tersebut\n",
        "5. Buatlah dataset baru yang menyimpan 10 row random dari dataset. Kemudian tunjukanlah 5 row pertamanya.\n",
        "6. Gunakan df.info() untuk melihat informasi singkat dari dataframe\n",
        "7. Tampilkan data 'R&D Spend' dan 'Marketing Spend' dari data yang berasal dari kota 'California'\n",
        "8. Temukan apa ada missing value dari setiap kolom\n",
        "9. Drop data yang memiliki profit di bawah 50000\n",
        "10. Urutkan Dataframe berdasarkan biaya marketing mulai dari terbesar ke terkecil"
      ]
    },
    {
      "cell_type": "code",
      "execution_count": 81,
      "metadata": {
        "id": "Zz-a6B-Au1er"
      },
      "outputs": [],
      "source": [
        "# 3\n",
        "\n",
        "import pandas as pd\n",
        "\n",
        "url = \"https://raw.githubusercontent.com/GTerrence/dataset/main/50_Startups.csv.xls\"\n",
        "df = pd.read_csv(url)\n",
        "\n",
        "\n",
        "\n"
      ]
    },
    {
      "cell_type": "code",
      "execution_count": 82,
      "metadata": {
        "id": "8hsqamWrCimw",
        "colab": {
          "base_uri": "https://localhost:8080/"
        },
        "outputId": "1577917c-eda6-4b64-b336-69eb1b4094dc"
      },
      "outputs": [
        {
          "output_type": "stream",
          "name": "stdout",
          "text": [
            "Kota yang ada dalam dataset:\n",
            "['New York' 'California' 'Florida']\n"
          ]
        }
      ],
      "source": [
        "# 4\n",
        "unique_cities = df['State'].unique()\n",
        "print(\"Kota yang ada dalam dataset:\")\n",
        "print(unique_cities)"
      ]
    },
    {
      "cell_type": "code",
      "execution_count": 83,
      "metadata": {
        "id": "xCcT75YOCmX3",
        "colab": {
          "base_uri": "https://localhost:8080/"
        },
        "outputId": "2dad8a45-421c-4bee-bd71-0b00120e6cf5"
      },
      "outputs": [
        {
          "output_type": "stream",
          "name": "stdout",
          "text": [
            "\n",
            "5 row pertama dari dataset baru:\n",
            "    R&D Spend  Administration  Marketing Spend       State     Profit\n",
            "27   72107.60       127864.55        353183.81    New York  105008.31\n",
            "35   46014.02        85047.44        205517.64    New York   96479.51\n",
            "40   28754.33       118546.05        172795.67  California   78239.91\n",
            "38   20229.59        65947.93        185265.10    New York   81229.06\n",
            "2   153441.51       101145.55        407934.54     Florida  191050.39\n"
          ]
        }
      ],
      "source": [
        "# 5\n",
        "random_sample = df.sample(n=10, random_state=1)\n",
        "print(\"\\n5 row pertama dari dataset baru:\")\n",
        "print(random_sample.head())\n"
      ]
    },
    {
      "cell_type": "code",
      "execution_count": 84,
      "metadata": {
        "id": "kgHgGEVoCqGR",
        "colab": {
          "base_uri": "https://localhost:8080/"
        },
        "outputId": "f0a46ee4-b6a2-45c3-c5f6-9c0cd5a84187"
      },
      "outputs": [
        {
          "output_type": "stream",
          "name": "stdout",
          "text": [
            "\n",
            "Informasi dataframe:\n",
            "<class 'pandas.core.frame.DataFrame'>\n",
            "RangeIndex: 50 entries, 0 to 49\n",
            "Data columns (total 5 columns):\n",
            " #   Column           Non-Null Count  Dtype  \n",
            "---  ------           --------------  -----  \n",
            " 0   R&D Spend        50 non-null     float64\n",
            " 1   Administration   50 non-null     float64\n",
            " 2   Marketing Spend  50 non-null     float64\n",
            " 3   State            50 non-null     object \n",
            " 4   Profit           50 non-null     float64\n",
            "dtypes: float64(4), object(1)\n",
            "memory usage: 2.1+ KB\n"
          ]
        }
      ],
      "source": [
        "# 6\n",
        "print(\"\\nInformasi dataframe:\")\n",
        "df.info()\n"
      ]
    },
    {
      "cell_type": "code",
      "execution_count": 85,
      "metadata": {
        "id": "Mc3zul5PA2TD",
        "colab": {
          "base_uri": "https://localhost:8080/"
        },
        "outputId": "e83b71de-8e9a-4fff-d210-0f38257c67cc"
      },
      "outputs": [
        {
          "output_type": "stream",
          "name": "stdout",
          "text": [
            "    R&D Spend  Marketing Spend\n",
            "1   162597.70        443898.53\n",
            "6   134615.46        127716.82\n",
            "9   123334.88        304981.62\n",
            "11  100671.96        249744.55\n",
            "13   91992.39        252664.93\n",
            "16   78013.11        264346.06\n",
            "20   76253.86        298664.47\n",
            "25   64664.71        137962.62\n",
            "32   63408.86         46085.25\n",
            "34   46426.07        210797.67\n",
            "37   44069.95        197029.42\n",
            "39   38558.51        174999.30\n",
            "40   28754.33        172795.67\n",
            "42   23640.93        148001.11\n",
            "44   22177.74         28334.72\n",
            "47       0.00             0.00\n",
            "49       0.00         45173.06\n"
          ]
        }
      ],
      "source": [
        "# 7\n",
        "california_data = df[df['State'] == 'California'][['R&D Spend', 'Marketing Spend']]\n",
        "\n",
        "print(california_data)"
      ]
    },
    {
      "cell_type": "code",
      "execution_count": 86,
      "metadata": {
        "id": "M1SY-gGACRy0",
        "colab": {
          "base_uri": "https://localhost:8080/"
        },
        "outputId": "b947add6-ff09-4128-f574-cc1a6a3f8d5b"
      },
      "outputs": [
        {
          "output_type": "stream",
          "name": "stdout",
          "text": [
            "\n",
            "Missing values di setiap kolom:\n",
            "R&D Spend          0\n",
            "Administration     0\n",
            "Marketing Spend    0\n",
            "State              0\n",
            "Profit             0\n",
            "dtype: int64\n"
          ]
        }
      ],
      "source": [
        "# 8\n",
        "missing_values = df.isnull().sum()\n",
        "print(\"\\nMissing values di setiap kolom:\")\n",
        "print(missing_values)"
      ]
    },
    {
      "cell_type": "code",
      "execution_count": 87,
      "metadata": {
        "id": "XS3SV8--CeLJ"
      },
      "outputs": [],
      "source": [
        "# 9\n",
        "df_filtered = df[df['Profit'] >= 50000]"
      ]
    },
    {
      "cell_type": "code",
      "execution_count": 88,
      "metadata": {
        "id": "mbt-zuboEm3A",
        "colab": {
          "base_uri": "https://localhost:8080/"
        },
        "outputId": "da16d6d4-d8c3-4692-8dd2-f2c488c3a219"
      },
      "outputs": [
        {
          "output_type": "stream",
          "name": "stdout",
          "text": [
            "\n",
            "Dataframe setelah filter dan urutan berdasarkan 'Marketing Spend':\n",
            "    R&D Spend  Administration  Marketing Spend       State     Profit\n",
            "0   165349.20       136897.80        471784.10    New York  192261.83\n",
            "1   162597.70       151377.59        443898.53  California  191792.06\n",
            "2   153441.51       101145.55        407934.54     Florida  191050.39\n",
            "3   144372.41       118671.85        383199.62    New York  182901.99\n",
            "4   142107.34        91391.77        366168.42     Florida  166187.94\n",
            "5   131876.90        99814.71        362861.36    New York  156991.12\n",
            "27   72107.60       127864.55        353183.81    New York  105008.31\n",
            "7   130298.13       145530.06        323876.68     Florida  155752.60\n",
            "8   120542.52       148718.95        311613.29    New York  152211.77\n",
            "9   123334.88       108679.17        304981.62  California  149759.96\n",
            "23   67532.53       105751.03        304768.73     Florida  108733.99\n",
            "22   73994.56       122782.75        303319.26     Florida  110352.25\n",
            "21   78389.47       153773.43        299737.29    New York  111313.02\n",
            "20   76253.86       113867.30        298664.47  California  118474.03\n",
            "18   91749.16       114175.79        294919.57     Florida  124266.90\n",
            "17   94657.16       145077.58        282574.31    New York  125370.37\n",
            "16   78013.11       121597.55        264346.06  California  126992.93\n",
            "15  114523.61       122616.84        261776.23    New York  129917.04\n",
            "14  119943.24       156547.42        256512.92     Florida  132602.65\n",
            "13   91992.39       135495.07        252664.93  California  134307.35\n",
            "12   93863.75       127320.38        249839.44     Florida  141585.52\n",
            "11  100671.96        91790.61        249744.55  California  144259.40\n",
            "10  101913.08       110594.11        229160.95     Florida  146121.95\n",
            "33   55493.95       103057.49        214634.81     Florida   96778.92\n",
            "34   46426.07       157693.92        210797.67  California   96712.80\n",
            "35   46014.02        85047.44        205517.64    New York   96479.51\n",
            "36   28663.76       127056.21        201126.82     Florida   90708.19\n",
            "37   44069.95        51283.14        197029.42  California   89949.14\n",
            "38   20229.59        65947.93        185265.10    New York   81229.06\n",
            "39   38558.51        82982.09        174999.30  California   81005.76\n",
            "40   28754.33       118546.05        172795.67  California   78239.91\n",
            "41   27892.92        84710.77        164470.71     Florida   77798.83\n",
            "42   23640.93        96189.63        148001.11  California   71498.49\n",
            "24   77044.01        99281.34        140574.81    New York  108552.04\n",
            "25   64664.71       139553.16        137962.62  California  107404.34\n",
            "26   75328.87       144135.98        134050.07     Florida  105733.54\n",
            "6   134615.46       147198.87        127716.82  California  156122.51\n",
            "28   66051.52       182645.56        118148.20     Florida  103282.38\n",
            "29   65605.48       153032.06        107138.38    New York  101004.64\n",
            "30   61994.48       115641.28         91131.24     Florida   99937.59\n",
            "31   61136.38       152701.92         88218.23    New York   97483.56\n",
            "32   63408.86       129219.61         46085.25  California   97427.84\n",
            "43   15505.73       127382.30         35534.17    New York   69758.98\n",
            "44   22177.74       154806.14         28334.72  California   65200.33\n",
            "45    1000.23       124153.04          1903.93    New York   64926.08\n",
            "19   86419.70       153514.11             0.00    New York  122776.86\n"
          ]
        }
      ],
      "source": [
        "# 10\n",
        "df_sorted = df_filtered.sort_values(by='Marketing Spend', ascending=False)\n",
        "\n",
        "print(\"\\nDataframe setelah filter dan urutan berdasarkan 'Marketing Spend':\")\n",
        "print(df_sorted)"
      ]
    },
    {
      "cell_type": "markdown",
      "metadata": {
        "id": "4OfOaA0xu1er"
      },
      "source": [
        "<h2> Data Cleaning"
      ]
    },
    {
      "cell_type": "markdown",
      "metadata": {
        "id": "Krb_r6quu1es"
      },
      "source": [
        "1. Import dataset berikut ke dalam dataframe.   \n",
        "   dataset : https://raw.githubusercontent.com/GTerrence/dataset/main/real_estate.csv\n",
        "2. Tampilkan 10 data random dari dataset di atas\n",
        "3. Cari informasi data dengan menggunakan fungsi describe\n",
        "4. Hapus kolom 'No' dan ubahlah nama kolom dalam dataframe menjadi 'transaction_date', 'house_age', 'distance_to_the_nearest_MRT_station', 'number_of_convinience_stores', 'latitude', 'longitude', 'house_price_of_unit_area'\n",
        "5. Cek apakah ada missing values dari masing-masing kolom"
      ]
    },
    {
      "cell_type": "code",
      "execution_count": 69,
      "metadata": {
        "id": "NAl8hGLHu1es"
      },
      "outputs": [],
      "source": [
        "# 1\n",
        "url = \"https://raw.githubusercontent.com/GTerrence/dataset/main/real_estate.csv\"\n",
        "df = pd.read_csv(url)"
      ]
    },
    {
      "cell_type": "code",
      "execution_count": 70,
      "metadata": {
        "id": "YWjZAHGdFXhK",
        "colab": {
          "base_uri": "https://localhost:8080/"
        },
        "outputId": "41e97a91-aa1c-43e3-9ce8-0d61d1713152"
      },
      "outputs": [
        {
          "output_type": "stream",
          "name": "stdout",
          "text": [
            "10 data random dari dataset:\n",
            "      No  X1 transaction date  X2 house age  \\\n",
            "388  389             2013.500          10.4   \n",
            "102  103             2013.083           1.1   \n",
            "187  188             2013.000           8.9   \n",
            "162  163             2012.750          16.0   \n",
            "90    91             2012.833           0.0   \n",
            "398  399             2013.417          14.7   \n",
            "295  296             2013.167          18.2   \n",
            "397  398             2013.417          13.1   \n",
            "17    18             2012.750          17.7   \n",
            "58    59             2013.500          30.3   \n",
            "\n",
            "     X3 distance to the nearest MRT station  X4 number of convenience stores  \\\n",
            "388                               2251.9380                                4   \n",
            "102                                193.5845                                6   \n",
            "187                               3078.1760                                0   \n",
            "162                               4066.5870                                0   \n",
            "90                                 274.0144                                1   \n",
            "398                               1717.1930                                2   \n",
            "295                               2179.5900                                3   \n",
            "397                               1164.8380                                4   \n",
            "17                                 350.8515                                1   \n",
            "58                                4510.3590                                1   \n",
            "\n",
            "     X5 latitude  X6 longitude  Y house price of unit area  \n",
            "388     24.95957     121.51353                        27.3  \n",
            "102     24.96571     121.54089                        54.4  \n",
            "187     24.95464     121.56627                        22.0  \n",
            "162     24.94297     121.50342                        11.6  \n",
            "90      24.97480     121.53059                        45.4  \n",
            "398     24.96447     121.51649                        23.0  \n",
            "295     24.96299     121.51252                        21.8  \n",
            "397     24.99156     121.53406                        32.2  \n",
            "17      24.97544     121.53119                        37.4  \n",
            "58      24.94925     121.49542                        22.6  \n"
          ]
        }
      ],
      "source": [
        "# 2\n",
        "random_sample = df.sample(n=10, random_state=1)\n",
        "print(\"10 data random dari dataset:\")\n",
        "print(random_sample)"
      ]
    },
    {
      "cell_type": "code",
      "execution_count": 71,
      "metadata": {
        "id": "WYXICVmkFgAo",
        "colab": {
          "base_uri": "https://localhost:8080/"
        },
        "outputId": "beb39133-9bfe-4244-89b3-60a852efba88"
      },
      "outputs": [
        {
          "output_type": "stream",
          "name": "stdout",
          "text": [
            "\n",
            "Informasi data menggunakan describe:\n",
            "               No  X1 transaction date  X2 house age  \\\n",
            "count  414.000000           414.000000    414.000000   \n",
            "mean   207.500000          2013.148971     17.712560   \n",
            "std    119.655756             0.281967     11.392485   \n",
            "min      1.000000          2012.667000      0.000000   \n",
            "25%    104.250000          2012.917000      9.025000   \n",
            "50%    207.500000          2013.167000     16.100000   \n",
            "75%    310.750000          2013.417000     28.150000   \n",
            "max    414.000000          2013.583000     43.800000   \n",
            "\n",
            "       X3 distance to the nearest MRT station  \\\n",
            "count                              414.000000   \n",
            "mean                              1083.885689   \n",
            "std                               1262.109595   \n",
            "min                                 23.382840   \n",
            "25%                                289.324800   \n",
            "50%                                492.231300   \n",
            "75%                               1454.279000   \n",
            "max                               6488.021000   \n",
            "\n",
            "       X4 number of convenience stores  X5 latitude  X6 longitude  \\\n",
            "count                       414.000000   414.000000    414.000000   \n",
            "mean                          4.094203    24.969030    121.533361   \n",
            "std                           2.945562     0.012410      0.015347   \n",
            "min                           0.000000    24.932070    121.473530   \n",
            "25%                           1.000000    24.963000    121.528085   \n",
            "50%                           4.000000    24.971100    121.538630   \n",
            "75%                           6.000000    24.977455    121.543305   \n",
            "max                          10.000000    25.014590    121.566270   \n",
            "\n",
            "       Y house price of unit area  \n",
            "count                  414.000000  \n",
            "mean                    37.980193  \n",
            "std                     13.606488  \n",
            "min                      7.600000  \n",
            "25%                     27.700000  \n",
            "50%                     38.450000  \n",
            "75%                     46.600000  \n",
            "max                    117.500000  \n"
          ]
        }
      ],
      "source": [
        "# 3\n",
        "print(\"\\nInformasi data menggunakan describe:\")\n",
        "print(df.describe())"
      ]
    },
    {
      "cell_type": "code",
      "execution_count": 72,
      "metadata": {
        "id": "v1scoJ2bFraH"
      },
      "outputs": [],
      "source": [
        "# 4\n",
        "df = df.drop(columns=['No'])\n",
        "df.columns = ['transaction_date', 'house_age', 'distance_to_the_nearest_MRT_station',\n",
        "              'number_of_convenience_stores', 'latitude', 'longitude', 'house_price_of_unit_area']"
      ]
    },
    {
      "cell_type": "code",
      "execution_count": 73,
      "metadata": {
        "id": "O_EVut8-GE7b",
        "colab": {
          "base_uri": "https://localhost:8080/"
        },
        "outputId": "a9c6f4df-a9eb-4172-abe3-4c08d4fda403"
      },
      "outputs": [
        {
          "output_type": "stream",
          "name": "stdout",
          "text": [
            "\n",
            "Missing values di masing-masing kolom:\n",
            "transaction_date                       0\n",
            "house_age                              0\n",
            "distance_to_the_nearest_MRT_station    0\n",
            "number_of_convenience_stores           0\n",
            "latitude                               0\n",
            "longitude                              0\n",
            "house_price_of_unit_area               0\n",
            "dtype: int64\n"
          ]
        }
      ],
      "source": [
        "# 5\n",
        "missing_values = df.isnull().sum()\n",
        "print(\"\\nMissing values di masing-masing kolom:\")\n",
        "print(missing_values)\n"
      ]
    }
  ],
  "metadata": {
    "colab": {
      "provenance": []
    },
    "kernelspec": {
      "display_name": "Python 3 (ipykernel)",
      "language": "python",
      "name": "python3"
    },
    "language_info": {
      "codemirror_mode": {
        "name": "ipython",
        "version": 3
      },
      "file_extension": ".py",
      "mimetype": "text/x-python",
      "name": "python",
      "nbconvert_exporter": "python",
      "pygments_lexer": "ipython3",
      "version": "3.9.12"
    }
  },
  "nbformat": 4,
  "nbformat_minor": 0
}